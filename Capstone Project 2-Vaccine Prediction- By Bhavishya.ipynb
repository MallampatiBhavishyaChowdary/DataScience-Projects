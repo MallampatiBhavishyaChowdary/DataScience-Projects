{
 "cells": [
  {
   "cell_type": "code",
   "execution_count": 1,
   "id": "14a22800",
   "metadata": {},
   "outputs": [
    {
     "name": "stdout",
     "output_type": "stream",
     "text": [
      "   unique_id  h1n1_worry  h1n1_awareness  antiviral_medication  \\\n",
      "0          0         1.0             0.0                   0.0   \n",
      "1          1         3.0             2.0                   0.0   \n",
      "2          2         1.0             1.0                   0.0   \n",
      "3          3         1.0             1.0                   0.0   \n",
      "4          4         2.0             1.0                   0.0   \n",
      "\n",
      "   contact_avoidance  bought_face_mask  wash_hands_frequently  \\\n",
      "0                0.0               0.0                    0.0   \n",
      "1                1.0               0.0                    1.0   \n",
      "2                1.0               0.0                    0.0   \n",
      "3                1.0               0.0                    1.0   \n",
      "4                1.0               0.0                    1.0   \n",
      "\n",
      "   avoid_large_gatherings  reduced_outside_home_cont  avoid_touch_face  ...  \\\n",
      "0                     0.0                        1.0               1.0  ...   \n",
      "1                     0.0                        1.0               1.0  ...   \n",
      "2                     0.0                        0.0               0.0  ...   \n",
      "3                     1.0                        0.0               0.0  ...   \n",
      "4                     1.0                        0.0               1.0  ...   \n",
      "\n",
      "    race     sex               income_level  marital_status  housing_status  \\\n",
      "0  White  Female              Below Poverty     Not Married             Own   \n",
      "1  White    Male              Below Poverty     Not Married            Rent   \n",
      "2  White    Male  <= $75,000, Above Poverty     Not Married             Own   \n",
      "3  White  Female              Below Poverty     Not Married            Rent   \n",
      "4  White  Female  <= $75,000, Above Poverty         Married             Own   \n",
      "\n",
      "           employment                census_msa  no_of_adults  no_of_children  \\\n",
      "0  Not in Labor Force                   Non-MSA           0.0             0.0   \n",
      "1            Employed  MSA, Not Principle  City           0.0             0.0   \n",
      "2            Employed  MSA, Not Principle  City           2.0             0.0   \n",
      "3  Not in Labor Force       MSA, Principle City           0.0             0.0   \n",
      "4            Employed  MSA, Not Principle  City           1.0             0.0   \n",
      "\n",
      "   h1n1_vaccine  \n",
      "0             0  \n",
      "1             0  \n",
      "2             0  \n",
      "3             0  \n",
      "4             0  \n",
      "\n",
      "[5 rows x 34 columns]\n"
     ]
    }
   ],
   "source": [
    "import pandas as pd\n",
    "from sklearn.model_selection import train_test_split\n",
    "from sklearn.ensemble import RandomForestClassifier\n",
    "from sklearn.metrics import accuracy_score, classification_report, confusion_matrix\n",
    "\n",
    "# Load the dataset\n",
    "df = pd.read_csv(\"h1n1_vaccine_prediction.csv\")\n",
    "\n",
    "# Display the first few rows of the DataFrame\n",
    "print(df.head())\n"
   ]
  },
  {
   "cell_type": "code",
   "execution_count": 2,
   "id": "7e00cc86",
   "metadata": {},
   "outputs": [
    {
     "name": "stdout",
     "output_type": "stream",
     "text": [
      "unique_id                        0\n",
      "h1n1_worry                      92\n",
      "h1n1_awareness                 116\n",
      "antiviral_medication            71\n",
      "contact_avoidance              208\n",
      "bought_face_mask                19\n",
      "wash_hands_frequently           42\n",
      "avoid_large_gatherings          87\n",
      "reduced_outside_home_cont       82\n",
      "avoid_touch_face               128\n",
      "dr_recc_h1n1_vacc             2160\n",
      "dr_recc_seasonal_vacc         2160\n",
      "chronic_medic_condition        971\n",
      "cont_child_undr_6_mnths        820\n",
      "is_health_worker               804\n",
      "has_health_insur             12274\n",
      "is_h1n1_vacc_effective         391\n",
      "is_h1n1_risky                  388\n",
      "sick_from_h1n1_vacc            395\n",
      "is_seas_vacc_effective         462\n",
      "is_seas_risky                  514\n",
      "sick_from_seas_vacc            537\n",
      "age_bracket                      0\n",
      "qualification                 1407\n",
      "race                             0\n",
      "sex                              0\n",
      "income_level                  4423\n",
      "marital_status                1408\n",
      "housing_status                2042\n",
      "employment                    1463\n",
      "census_msa                       0\n",
      "no_of_adults                   249\n",
      "no_of_children                 249\n",
      "h1n1_vaccine                     0\n",
      "dtype: int64\n"
     ]
    }
   ],
   "source": [
    "# Check for missing values\n",
    "print(df.isnull().sum())\n"
   ]
  },
  {
   "cell_type": "code",
   "execution_count": 3,
   "id": "e2d29903",
   "metadata": {},
   "outputs": [
    {
     "name": "stderr",
     "output_type": "stream",
     "text": [
      "C:\\Users\\Mallampati Bhavishya\\AppData\\Local\\Temp\\ipykernel_22068\\2242469633.py:3: FutureWarning: Dropping of nuisance columns in DataFrame reductions (with 'numeric_only=None') is deprecated; in a future version this will raise TypeError.  Select only valid columns before calling the reduction.\n",
      "  df.fillna(df.mean(), inplace=True)\n"
     ]
    }
   ],
   "source": [
    "# Handle missing values as needed\n",
    "# For example, fill missing values in numeric columns with mean\n",
    "df.fillna(df.mean(), inplace=True)\n"
   ]
  },
  {
   "cell_type": "code",
   "execution_count": 4,
   "id": "be75340f",
   "metadata": {},
   "outputs": [],
   "source": [
    "# Prepare the data\n",
    "X = df.drop(['unique_id', 'h1n1_vaccine'], axis=1)\n",
    "y = df['h1n1_vaccine']\n"
   ]
  },
  {
   "cell_type": "code",
   "execution_count": 5,
   "id": "7bcdd6bc",
   "metadata": {},
   "outputs": [],
   "source": [
    "# One-hot encode categorical columns\n",
    "X_encoded = pd.get_dummies(X, drop_first=True)\n"
   ]
  },
  {
   "cell_type": "code",
   "execution_count": 6,
   "id": "3d51b2c1",
   "metadata": {},
   "outputs": [],
   "source": [
    "# Split the data into training and testing sets\n",
    "X_train, X_test, y_train, y_test = train_test_split(X_encoded, y, test_size=0.2, random_state=42)\n"
   ]
  },
  {
   "cell_type": "code",
   "execution_count": 7,
   "id": "8d361a37",
   "metadata": {},
   "outputs": [
    {
     "data": {
      "text/plain": [
       "RandomForestClassifier()"
      ]
     },
     "execution_count": 7,
     "metadata": {},
     "output_type": "execute_result"
    }
   ],
   "source": [
    "# Train a Random Forest Classifier\n",
    "model = RandomForestClassifier()\n",
    "model.fit(X_train, y_train)\n"
   ]
  },
  {
   "cell_type": "code",
   "execution_count": 8,
   "id": "ab354c45",
   "metadata": {},
   "outputs": [
    {
     "name": "stdout",
     "output_type": "stream",
     "text": [
      "Training Accuracy: 0.9999531944769483\n"
     ]
    }
   ],
   "source": [
    "# Make predictions on the training set\n",
    "y_train_pred = model.predict(X_train)\n",
    "\n",
    "# Evaluate the model on the training set\n",
    "training_accuracy = accuracy_score(y_train, y_train_pred)\n",
    "print('Training Accuracy:', training_accuracy)\n"
   ]
  },
  {
   "cell_type": "code",
   "execution_count": 9,
   "id": "82831a6a",
   "metadata": {},
   "outputs": [
    {
     "name": "stdout",
     "output_type": "stream",
     "text": [
      "Test Accuracy: 0.8508049419692999\n",
      "\n",
      "Classification Report:\n",
      "              precision    recall  f1-score   support\n",
      "\n",
      "           0       0.87      0.96      0.91      4212\n",
      "           1       0.75      0.45      0.56      1130\n",
      "\n",
      "    accuracy                           0.85      5342\n",
      "   macro avg       0.81      0.70      0.73      5342\n",
      "weighted avg       0.84      0.85      0.84      5342\n",
      "\n",
      "\n",
      "Confusion Matrix:\n",
      "[[4042  170]\n",
      " [ 627  503]]\n"
     ]
    }
   ],
   "source": [
    "# Make predictions on the test set\n",
    "y_test_pred = model.predict(X_test)\n",
    "\n",
    "# Evaluate the model on the test set\n",
    "test_accuracy = accuracy_score(y_test, y_test_pred)\n",
    "print('Test Accuracy:', test_accuracy)\n",
    "\n",
    "# Additional evaluation metrics\n",
    "print('\\nClassification Report:')\n",
    "print(classification_report(y_test, y_test_pred))\n",
    "\n",
    "print('\\nConfusion Matrix:')\n",
    "print(confusion_matrix(y_test, y_test_pred))\n"
   ]
  },
  {
   "cell_type": "code",
   "execution_count": 10,
   "id": "41ca0be1",
   "metadata": {},
   "outputs": [
    {
     "data": {
      "image/png": "[encoded data removed]",
      "text/plain": [
       "<Figure size 640x480 with 2 Axes>"
      ]
     },
     "metadata": {},
     "output_type": "display_data"
    }
   ],
   "source": [
    "import matplotlib.pyplot as plt\n",
    "import numpy\n",
    "from sklearn import metrics\n",
    "\n",
    "actual = numpy.random.binomial(1,.9,size = 1000)\n",
    "predicted = numpy.random.binomial(1,.9,size = 1000)\n",
    "\n",
    "confusion_matrix = metrics.confusion_matrix(actual, predicted)\n",
    "\n",
    "cm_display = metrics.ConfusionMatrixDisplay(confusion_matrix = confusion_matrix, display_labels = [False, True])\n",
    "\n",
    "cm_display.plot()\n",
    "plt.show()"
   ]
  },
  {
   "cell_type": "code",
   "execution_count": null,
   "id": "da45ccee",
   "metadata": {},
   "outputs": [],
   "source": []
  }
 ],
 "metadata": {
  "kernelspec": {
   "display_name": "Python 3 (ipykernel)",
   "language": "python",
   "name": "python3"
  },
  "language_info": {
   "codemirror_mode": {
    "name": "ipython",
    "version": 3
   },
   "file_extension": ".py",
   "mimetype": "text/x-python",
   "name": "python",
   "nbconvert_exporter": "python",
   "pygments_lexer": "ipython3",
   "version": "3.9.13"
  }
 },
 "nbformat": 4,
 "nbformat_minor": 5
}
